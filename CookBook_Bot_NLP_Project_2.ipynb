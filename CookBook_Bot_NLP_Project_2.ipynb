{
 "cells": [
  {
   "cell_type": "code",
   "execution_count": null,
   "id": "7aa7071e-e27a-4de1-999d-171d13e31642",
   "metadata": {},
   "outputs": [],
   "source": []
  },
  {
   "cell_type": "code",
   "execution_count": 8,
   "id": "b73d436b-3407-4b44-b186-056146cf2ecb",
   "metadata": {},
   "outputs": [
    {
     "name": "stdout",
     "output_type": "stream",
     "text": [
      "👋 Hello! Welcome to the Interactive Cookbook Chatbot!\n"
     ]
    },
    {
     "name": "stdin",
     "output_type": "stream",
     "text": [
      "Please enter the recipe URL:  https://www.seriouseats.com/classic-banana-pudding-recipe-8648619\n"
     ]
    },
    {
     "name": "stdout",
     "output_type": "stream",
     "text": [
      "🌟 Setting up the web driver... Please wait.\n"
     ]
    },
    {
     "name": "stderr",
     "output_type": "stream",
     "text": [
      "Setting up driver: 100%|████████████████████████████████████████████████████████████████████████████████████ [🕒 00:00]\n"
     ]
    },
    {
     "name": "stdout",
     "output_type": "stream",
     "text": [
      "🔗 Processing the URL... Please wait.\n"
     ]
    },
    {
     "name": "stderr",
     "output_type": "stream",
     "text": [
      "Processing URL: 100%|███████████████████████████████████████████████████████████████████████████████████████ [🕒 00:00]\n"
     ]
    },
    {
     "name": "stdout",
     "output_type": "stream",
     "text": [
      "\n",
      "📜 Menu:\n",
      "1️⃣ Show Title\n",
      "2️⃣ Show Ingredients\n",
      "3️⃣ Show Directions\n",
      "4️⃣ Show Tools Used\n",
      "5️⃣ Help\n",
      "6️⃣ End\n"
     ]
    },
    {
     "name": "stdin",
     "output_type": "stream",
     "text": [
      "Please enter your choice (1-6):  1\n"
     ]
    },
    {
     "name": "stdout",
     "output_type": "stream",
     "text": [
      "📋 Extracting the title... Please wait.\n"
     ]
    },
    {
     "name": "stderr",
     "output_type": "stream",
     "text": [
      "Extracting title: 100%|█████████████████████████████████████████████████████████████████████████████████████ [🕒 00:00]\n"
     ]
    },
    {
     "name": "stdout",
     "output_type": "stream",
     "text": [
      "✨ Recipe Title: The Essential Upgrade for the Best Banana Pudding ✨\n",
      "\n",
      "📜 Menu:\n",
      "1️⃣ Show Title\n",
      "2️⃣ Show Ingredients\n",
      "3️⃣ Show Directions\n",
      "4️⃣ Show Tools Used\n",
      "5️⃣ Help\n",
      "6️⃣ End\n"
     ]
    },
    {
     "name": "stdin",
     "output_type": "stream",
     "text": [
      "Please enter your choice (1-6):  2\n"
     ]
    },
    {
     "name": "stdout",
     "output_type": "stream",
     "text": [
      "🥕 Extracting the ingredients... Please wait.\n"
     ]
    },
    {
     "name": "stderr",
     "output_type": "stream",
     "text": [
      "Extracting ingredients: 100%|███████████████████████████████████████████████████████████████████████████████ [🕒 00:00]\n"
     ]
    },
    {
     "name": "stdout",
     "output_type": "stream",
     "text": [
      "🍽 Ingredients:\n",
      "1. [  Ingredients  \n",
      "2. \n",
      "3. \n",
      "4. \n",
      "5. 4 cups (960ml) whole milk\n",
      "6. \n",
      "7. \n",
      "8. 1 vanilla bean, split and scraped, or 1 teaspoon vanilla paste\n",
      "9. \n",
      "10. \n",
      "11. 226g granulated sugar (8 ounces; 1 cup plus 2 tablespoons)\n",
      "12. \n",
      "13. \n",
      "14. 60g cornstarch (2 ounces; 6 tablespoons)\n",
      "15. \n",
      "16. \n",
      "17. 1 teaspoon Diamond Crystal kosher salt, divided; for table salt, use half as much by volume\n",
      "18. \n",
      "19. \n",
      "20. Yolks from 8 large eggs, straight from the fridge (5 ounces; 140g)\n",
      "21. \n",
      "22. \n",
      "23. 56g unsalted butter (about 2 ounces; 2 tablespoons)\n",
      "24. \n",
      "25. \n",
      "26. One 11-ounce box Nilla Wafers or other vanilla wafer cookies\n",
      "27. \n",
      "28. \n",
      "29. 5 medium bananas (about 27 1/2 ounces; 775g), peeled and sliced in 1/2-inch rounds\n",
      "30. \n",
      "31. \n",
      "32. 2 cups (480ml) heavy cream\n",
      "33. \n",
      "34. \n",
      "35. 1 tablespoon (8g) confectioners sugar\n",
      "36. \n",
      "37. \n",
      "38. \n",
      "39.  \n",
      "40. \n",
      "41. \n",
      "42. \n",
      "43. ,  Ingredients , \n",
      "44. \n",
      "45. \n",
      "46. 4 cups (960ml) whole milk\n",
      "47. \n",
      "48. \n",
      "49. 1 vanilla bean, split and scraped, or 1 teaspoon vanilla paste\n",
      "50. \n",
      "51. \n",
      "52. 226g granulated sugar (8 ounces; 1 cup plus 2 tablespoons)\n",
      "53. \n",
      "54. \n",
      "55. 60g cornstarch (2 ounces; 6 tablespoons)\n",
      "56. \n",
      "57. \n",
      "58. 1 teaspoon Diamond Crystal kosher salt, divided; for table salt, use half as much by volume\n",
      "59. \n",
      "60. \n",
      "61. Yolks from 8 large eggs, straight from the fridge (5 ounces; 140g)\n",
      "62. \n",
      "63. \n",
      "64. 56g unsalted butter (about 2 ounces; 2 tablespoons)\n",
      "65. \n",
      "66. \n",
      "67. One 11-ounce box Nilla Wafers or other vanilla wafer cookies\n",
      "68. \n",
      "69. \n",
      "70. 5 medium bananas (about 27 1/2 ounces; 775g), peeled and sliced in 1/2-inch rounds\n",
      "71. \n",
      "72. \n",
      "73. 2 cups (480ml) heavy cream\n",
      "74. \n",
      "75. \n",
      "76. 1 tablespoon (8g) confectioners sugar\n",
      "77. \n",
      "78. \n",
      "79. , \n",
      "80. \n",
      "81. 4 cups (960ml) whole milk\n",
      "82. \n",
      "83. \n",
      "84. 1 vanilla bean, split and scraped, or 1 teaspoon vanilla paste\n",
      "85. \n",
      "86. \n",
      "87. 226g granulated sugar (8 ounces; 1 cup plus 2 tablespoons)\n",
      "88. \n",
      "89. \n",
      "90. 60g cornstarch (2 ounces; 6 tablespoons)\n",
      "91. \n",
      "92. \n",
      "93. 1 teaspoon Diamond Crystal kosher salt, divided; for table salt, use half as much by volume\n",
      "94. \n",
      "95. \n",
      "96. Yolks from 8 large eggs, straight from the fridge (5 ounces; 140g)\n",
      "97. \n",
      "98. \n",
      "99. 56g unsalted butter (about 2 ounces; 2 tablespoons)\n",
      "100. \n",
      "101. \n",
      "102. One 11-ounce box Nilla Wafers or other vanilla wafer cookies\n",
      "103. \n",
      "104. \n",
      "105. 5 medium bananas (about 27 1/2 ounces; 775g), peeled and sliced in 1/2-inch rounds\n",
      "106. \n",
      "107. \n",
      "108. 2 cups (480ml) heavy cream\n",
      "109. \n",
      "110. \n",
      "111. 1 tablespoon (8g) confectioners sugar\n",
      "112. \n",
      "113. , \n",
      "114. 4 cups (960ml) whole milk\n",
      "115. , \n",
      "116. 1 vanilla bean, split and scraped, or 1 teaspoon vanilla paste\n",
      "117. , \n",
      "118. 226g granulated sugar (8 ounces; 1 cup plus 2 tablespoons)\n",
      "119. , \n",
      "120. 60g cornstarch (2 ounces; 6 tablespoons)\n",
      "121. , \n",
      "122. 1 teaspoon Diamond Crystal kosher salt, divided; for table salt, use half as much by volume\n",
      "123. , \n",
      "124. Yolks from 8 large eggs, straight from the fridge (5 ounces; 140g)\n",
      "125. , \n",
      "126. 56g unsalted butter (about 2 ounces; 2 tablespoons)\n",
      "127. , \n",
      "128. One 11-ounce box Nilla Wafers or other vanilla wafer cookies\n",
      "129. , \n",
      "130. 5 medium bananas (about 27 1/2 ounces; 775g), peeled and sliced in 1/2-inch rounds\n",
      "131. , \n",
      "132. 2 cups (480ml) heavy cream\n",
      "133. , \n",
      "134. 1 tablespoon (8g) confectioners sugar\n",
      "135. , \n",
      "136. Ingredients\n",
      "137. ]\n",
      "\n",
      "📜 Menu:\n",
      "1️⃣ Show Title\n",
      "2️⃣ Show Ingredients\n",
      "3️⃣ Show Directions\n",
      "4️⃣ Show Tools Used\n",
      "5️⃣ Help\n",
      "6️⃣ End\n"
     ]
    },
    {
     "name": "stdin",
     "output_type": "stream",
     "text": [
      "Please enter your choice (1-6):  3\n"
     ]
    },
    {
     "name": "stdout",
     "output_type": "stream",
     "text": [
      "📜 Extracting the directions... Please wait.\n"
     ]
    },
    {
     "name": "stderr",
     "output_type": "stream",
     "text": [
      "Extracting directions: 100%|████████████████████████████████████████████████████████████████████████████████ [🕒 00:00]\n"
     ]
    },
    {
     "name": "stdout",
     "output_type": "stream",
     "text": [
      "📋 Directions:\n",
      "Step 1: In a 4-quart stainless steel saucepan or pot, combine milk and scraped vanilla bean along with its seeds or 1 teaspoon vanilla paste. Bring to a bare simmer over medium heat. Remove from heat, cover to prevent evaporation, and let steep for 30 minutes.\n",
      "Step 2: In a large bowl, set up an ice bath by partially filling it with a combination of cold water and ice. Set aside.\n",
      "Step 3: In a medium heatproof mixing bowl set on top of a dampened towel (this serves as a stable base), stir together sugar, cornstarch, and salt. Whisk in egg yolks until mixture is pale yellow, smooth, and fluffy, about 1 minute.\n",
      "Step 4: Uncover infused milk and remove vanilla bean. While whisking continuously, slowly pour milk into egg yolk mixture in a thin stream, until all of it has been added.\n",
      "Step 5: Return mixture to the same pot. Cook over medium heat, whisking constantly until pastry cream begins to thicken, about 5 minutes. Once it thickens, continue to whisk, pausing every few seconds to check for bubbles, about 1 minute. When it begins to bubble, set a timer and continue whisking for 1 minute. (This step is important to neutralize amylase, a starch-dissolving protein found in egg yolks.)\n",
      "Step 6: Off-heat, whisk in butter until melted and thoroughly combined. Strain pastry cream through a fine-mesh sieve set over a heatproof medium bowl. Immediately place plastic wrap directly on the surface of the cream to prevent a skin from forming. Transfer bowl to prepared ice bath to chill for 30 minutes, then refrigerate until cold, about 2 hours.\n",
      "Step 7: When ready to assemble banana pudding, whisk pastry cream until smooth. Using a flexible or offset spatula, cover bottom of trifle bowl with about 1 cup pastry cream. Top with a layer of Nilla Wafers. Arrange banana slices on top of cookies. Repeat until you have 4 layers; cover top layer with remaining pastry cream. Place plastic wrap directly on surface of pastry cream and refrigerate until wafers have softened and the flavors have melded, at least 8 hours and up to 24 hours. (You may have remaining Nilla Wafers; set aside to garnish, if desired.)\n",
      "Step 8: When ready to serve, prepare the whipped cream: In the bowl of a stand mixer fitted with a whisk attachment, whip heavy cream, confectioners sugar, and remaining 1/2 teaspoon kosher salt until soft peaks form. (Alternatively, in a medium bowl, whisk cream by hand or using a hand mixer until soft peaks form.)\n",
      "Step 9: Remove plastic wrap from pudding and top with whipped cream. Garnish with crushed Nilla Wafers, if desired. Serve immediately.\n",
      "\n",
      "📜 Menu:\n",
      "1️⃣ Show Title\n",
      "2️⃣ Show Ingredients\n",
      "3️⃣ Show Directions\n",
      "4️⃣ Show Tools Used\n",
      "5️⃣ Help\n",
      "6️⃣ End\n"
     ]
    },
    {
     "name": "stdin",
     "output_type": "stream",
     "text": [
      "Please enter your choice (1-6):  4\n"
     ]
    },
    {
     "name": "stdout",
     "output_type": "stream",
     "text": [
      "🔧 Analyzing tools used in the recipe... Please wait.\n"
     ]
    },
    {
     "name": "stderr",
     "output_type": "stream",
     "text": [
      "Analyzing tools: 100%|██████████████████████████████████████████████████████████████████████████████████████ [🕒 00:00]\n"
     ]
    },
    {
     "name": "stdout",
     "output_type": "stream",
     "text": [
      "📜 Extracting the directions... Please wait.\n"
     ]
    },
    {
     "name": "stderr",
     "output_type": "stream",
     "text": [
      "Extracting directions: 100%|████████████████████████████████████████████████████████████████████████████████ [🕒 00:00]\n"
     ]
    },
    {
     "name": "stdout",
     "output_type": "stream",
     "text": [
      "🛠 Tools Used:\n",
      "1. baking sheet\n",
      "2. spoon\n",
      "3. cookie cutter\n",
      "4. measuring cup\n",
      "5. mortar and pestle\n",
      "6. whisk\n",
      "7. mixer\n",
      "8. garlic press\n",
      "9. strainer\n",
      "10. frying pan\n",
      "11. oven\n",
      "\n",
      "📜 Menu:\n",
      "1️⃣ Show Title\n",
      "2️⃣ Show Ingredients\n",
      "3️⃣ Show Directions\n",
      "4️⃣ Show Tools Used\n",
      "5️⃣ Help\n",
      "6️⃣ End\n"
     ]
    },
    {
     "name": "stdin",
     "output_type": "stream",
     "text": [
      "Please enter your choice (1-6):  5\n",
      "Enter your query:  hh\n"
     ]
    },
    {
     "name": "stdout",
     "output_type": "stream",
     "text": [
      "❓ Press 1 for Google search, press 2 for YouTube search.\n"
     ]
    },
    {
     "name": "stdin",
     "output_type": "stream",
     "text": [
      "Your choice:  1\n"
     ]
    },
    {
     "name": "stdout",
     "output_type": "stream",
     "text": [
      "🔍 Performing Google search... Please wait.\n"
     ]
    },
    {
     "name": "stderr",
     "output_type": "stream",
     "text": [
      "Google search: 100%|████████████████████████████████████████████████████████████████████████████████████████ [🕒 00:00]\n"
     ]
    },
    {
     "name": "stdout",
     "output_type": "stream",
     "text": [
      "\n",
      "📜 Menu:\n",
      "1️⃣ Show Title\n",
      "2️⃣ Show Ingredients\n",
      "3️⃣ Show Directions\n",
      "4️⃣ Show Tools Used\n",
      "5️⃣ Help\n",
      "6️⃣ End\n"
     ]
    },
    {
     "name": "stdin",
     "output_type": "stream",
     "text": [
      "Please enter your choice (1-6):  6\n"
     ]
    },
    {
     "name": "stdout",
     "output_type": "stream",
     "text": [
      "👋 Goodbye! Have a lovely day and happy cooking! 🍳\n"
     ]
    }
   ],
   "source": [
    "from bs4 import BeautifulSoup\n",
    "from selenium import webdriver\n",
    "from selenium.webdriver.chrome.service import Service\n",
    "from webdriver_manager.chrome import ChromeDriverManager\n",
    "import requests\n",
    "import re\n",
    "import spacy\n",
    "import webbrowser\n",
    "import time\n",
    "from tqdm import tqdm\n",
    "\n",
    "# Load the spaCy model\n",
    "nlp = spacy.load('en_core_web_md')\n",
    "\n",
    "# Cooking tools list\n",
    "cooking_tools = [\n",
    "    \"mixer\", \"knife\", \"spoon\", \"spatula\", \"whisk\", \"measuring cup\", \"frying pan\",\n",
    "    \"baking sheet\", \"mixing bowl\", \"oven\", \"saucepan\", \"skillet\", \"blender\",\n",
    "    \"grater\", \"rolling pin\", \"mortar and pestle\", \"colander\", \"strainer\", \"tongs\",\n",
    "    \"peeler\", \"ladle\", \"cutting board\", \"pot\", \"pan\", \"grill\", \"oven mitt\",\n",
    "    'mortar and pestle', 'whisk', 'oven mitt', 'measuring cup', 'frying pan', \n",
    "    'oven', 'spoon', 'blender', 'strainer', 'knife', 'cutting board', 'spatula', \n",
    "    'tongs', 'rolling pin', 'grater', 'peeler', 'colander', 'mixing bowl', \n",
    "    'ladle', 'measuring spoons', 'microwave', 'toaster', 'baking sheet', \n",
    "    'slow cooker', 'salad spinner', 'zester', 'meat thermometer', \n",
    "    'cookie cutter', 'garlic press'\n",
    "]\n",
    "\n",
    "def progress_bar(task_name):\n",
    "    for _ in tqdm(range(100), desc=task_name, bar_format=\"{l_bar}{bar} [🕒 {remaining}]\"):\n",
    "        time.sleep(0.01)\n",
    "\n",
    "def get_driver():\n",
    "    print(\"🌟 Setting up the web driver... Please wait.\")\n",
    "    progress_bar(\"Setting up driver\")\n",
    "    return webdriver.Chrome(service=Service(ChromeDriverManager().install()))\n",
    "\n",
    "def get_soup(driver, url):\n",
    "    print(\"🔗 Processing the URL... Please wait.\")\n",
    "    progress_bar(\"Processing URL\")\n",
    "    driver.get(url)\n",
    "    return BeautifulSoup(driver.page_source, 'html.parser')\n",
    "\n",
    "def get_title(soup):\n",
    "    print(\"📋 Extracting the title... Please wait.\")\n",
    "    progress_bar(\"Extracting title\")\n",
    "    title_element = soup.find('h1', class_='heading__title') or soup.find('h1')\n",
    "    if title_element is not None:\n",
    "        title = title_element.text.strip()\n",
    "        return f\"✨ Recipe Title: {title} ✨\"\n",
    "    else:\n",
    "        return \"🚫 Title not found\"\n",
    "\n",
    "def get_ingredients(soup):\n",
    "    print(\"🥕 Extracting the ingredients... Please wait.\")\n",
    "    progress_bar(\"Extracting ingredients\")\n",
    "    ingredient_sections = soup.find_all(lambda tag: tag.has_attr('class') and any(re.search(r'ingredients', class_name) for class_name in tag['class']))\n",
    "    soup_str = str(ingredient_sections)\n",
    "    clean_text = re.sub(r'<[^>]+>', '', soup_str).strip()\n",
    "    \n",
    "    # Split the ingredients into a list\n",
    "    ingredients_list = clean_text.split('\\n')\n",
    "    \n",
    "    return ingredients_list\n",
    "\n",
    "def get_directions(soup):\n",
    "    print(\"📜 Extracting the directions... Please wait.\")\n",
    "    progress_bar(\"Extracting directions\")\n",
    "    directions_sections = soup.find_all('ol')\n",
    "    directions_steps = []\n",
    "    for tag in directions_sections:\n",
    "        if hasattr(tag, 'find_all'):    \n",
    "            for li in tag.find_all('li'):\n",
    "                directions = li.get_text().replace('\\n', '').replace('\\t', '').replace('\\xa0', '').strip()\n",
    "                step = re.sub(r\"Serious Eats.*$\", \"\", directions)\n",
    "                directions_steps.append(step.rstrip())\n",
    "    return directions_steps\n",
    "\n",
    "def tools_used(soup):\n",
    "    print(\"🔧 Analyzing tools used in the recipe... Please wait.\")\n",
    "    progress_bar(\"Analyzing tools\")\n",
    "    directions_steps = get_directions(soup)\n",
    "    text = directions_steps\n",
    "    tool_docs = [nlp(tool) for tool in cooking_tools]\n",
    "    doc = nlp(' '.join(text))\n",
    "    similarity_threshold = 0.6\n",
    "    mentioned_tools = []\n",
    "    for token in doc:\n",
    "        for tool_doc in tool_docs:\n",
    "            if token.similarity(tool_doc) > similarity_threshold:\n",
    "                mentioned_tools.append(tool_doc.text)\n",
    "                break  # Once a tool is matched, no need to compare with others\n",
    "    \n",
    "    mentioned_tools = list(set(mentioned_tools))\n",
    "    return mentioned_tools\n",
    "\n",
    "def help_search(query):\n",
    "    print(\"❓ Press 1 for Google search, press 2 for YouTube search.\")\n",
    "    choice = input(\"Your choice: \").strip()\n",
    "    search_query = query.replace(\" \", \"+\")\n",
    "    if choice == \"1\":\n",
    "        print(\"🔍 Performing Google search... Please wait.\")\n",
    "        progress_bar(\"Google search\")\n",
    "        webbrowser.open(f\"https://www.google.com/search?q={search_query}\")\n",
    "    elif choice == \"2\":\n",
    "        print(\"🎥 Performing YouTube search... Please wait.\")\n",
    "        progress_bar(\"YouTube search\")\n",
    "        webbrowser.open(f\"https://www.youtube.com/results?search_query={search_query}\")\n",
    "    else:\n",
    "        print(\"🚫 Invalid choice, returning to the main menu.\")\n",
    "\n",
    "def chatbot():\n",
    "    print(\"👋 Hello! Welcome to the Interactive Cookbook Chatbot!\")\n",
    "    url = input(\"Please enter the recipe URL: \").strip()\n",
    "    \n",
    "    driver = get_driver()\n",
    "    soup = get_soup(driver, url)\n",
    "    \n",
    "    while True:\n",
    "        print(\"\\n📜 Menu:\")\n",
    "        print(\"1️⃣ Show Title\")\n",
    "        print(\"2️⃣ Show Ingredients\")\n",
    "        print(\"3️⃣ Show Directions\")\n",
    "        print(\"4️⃣ Show Tools Used\")\n",
    "        print(\"5️⃣ Help\")\n",
    "        print(\"6️⃣ End\")\n",
    "        \n",
    "        choice = input(\"Please enter your choice (1-6): \").strip()\n",
    "        \n",
    "        if choice == \"1\":\n",
    "            title = get_title(soup)\n",
    "            print(title)\n",
    "        \n",
    "        elif choice == \"2\":\n",
    "            ingredients = get_ingredients(soup)\n",
    "            print(\"🍽 Ingredients:\")\n",
    "            for idx, ingredient in enumerate(ingredients, start=1):\n",
    "                print(f\"{idx}. {ingredient}\")\n",
    "        \n",
    "        elif choice == \"3\":\n",
    "            directions = get_directions(soup)\n",
    "            print(\"📋 Directions:\")\n",
    "            for idx, step in enumerate(directions, start=1):\n",
    "                print(f\"Step {idx}: {step}\")\n",
    "        \n",
    "        elif choice == \"4\":\n",
    "            tools = tools_used(soup)\n",
    "            print(\"🛠 Tools Used:\")\n",
    "            for idx, tool in enumerate(tools, start=1):\n",
    "                print(f\"{idx}. {tool}\")\n",
    "        \n",
    "        elif choice == \"5\":\n",
    "            query = input(\"Enter your query: \").strip()\n",
    "            help_search(query)\n",
    "        \n",
    "        elif choice == \"6\":\n",
    "            print(\"👋 Goodbye! Have a lovely day and happy cooking! 🍳\")\n",
    "            driver.quit()\n",
    "            break\n",
    "        \n",
    "        else:\n",
    "            print(\"🚫 Invalid choice. Please enter a number between 1 and 6.\")\n",
    "\n",
    "# Run the chatbot\n",
    "chatbot()\n"
   ]
  },
  {
   "cell_type": "code",
   "execution_count": null,
   "id": "fe4163bc-8419-4bd2-ba00-5c7d747188e9",
   "metadata": {},
   "outputs": [],
   "source": []
  }
 ],
 "metadata": {
  "kernelspec": {
   "display_name": "Python 3 (ipykernel)",
   "language": "python",
   "name": "python3"
  },
  "language_info": {
   "codemirror_mode": {
    "name": "ipython",
    "version": 3
   },
   "file_extension": ".py",
   "mimetype": "text/x-python",
   "name": "python",
   "nbconvert_exporter": "python",
   "pygments_lexer": "ipython3",
   "version": "3.11.7"
  }
 },
 "nbformat": 4,
 "nbformat_minor": 5
}
